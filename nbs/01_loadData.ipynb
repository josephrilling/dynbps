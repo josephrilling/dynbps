{
 "cells": [
  {
   "cell_type": "code",
   "execution_count": null,
   "id": "66e59f56-846d-4a0e-bb9a-3495e516eefe",
   "metadata": {},
   "outputs": [],
   "source": [
    "#| hide\n",
    "%load_ext autoreload\n",
    "%autoreload 2"
   ]
  },
  {
   "cell_type": "markdown",
   "id": "f9308248-7f4c-4bd0-a6f1-47969ebec046",
   "metadata": {},
   "source": [
    "# Load Datasets\n",
    "> This notebook helps easily load data that can be used in BPS"
   ]
  },
  {
   "cell_type": "code",
   "execution_count": null,
   "id": "4abf16e5-aee4-4adc-9939-64fb675927b5",
   "metadata": {},
   "outputs": [],
   "source": [
    "#| default_exp loadData\n"
   ]
  },
  {
   "cell_type": "markdown",
   "id": "604145b3-1e34-4ba8-b34c-b87fb8770872",
   "metadata": {},
   "source": [
    "Inspiration for this setup comes from Kai Gunder and their ddex github repository. Thank you again to the nbdev community"
   ]
  },
  {
   "cell_type": "code",
   "execution_count": null,
   "id": "cba95fc2-02ef-4158-b403-62772d9ee2a9",
   "metadata": {},
   "outputs": [],
   "source": [
    "#| export \n",
    "import pandas as pd\n",
    "import numpy as np\n",
    "import pkg_resources"
   ]
  },
  {
   "cell_type": "markdown",
   "id": "02506900-524e-4a24-9314-404cad3276a2",
   "metadata": {},
   "source": [
    "## Inflation Data"
   ]
  },
  {
   "cell_type": "code",
   "execution_count": null,
   "id": "58460d5e-347e-4e14-8884-2cd2ccf86088",
   "metadata": {},
   "outputs": [],
   "source": [
    "#| export\n",
    "def loadDataInf(returnall =True):\n",
    "    dataPath = pkg_resources.resource_stream(__name__, 'datasets/data.xlsx')\n",
    "    yI = pd.read_excel(dataPath, 'Inflation', skiprows = 1, index_col=0, header = None).values\n",
    "    a = pd.read_excel(dataPath, 'Agent Mean', skiprows = 1, index_col=0, header = None).values\n",
    "    A = pd.read_excel(dataPath, 'Agent Var', skiprows = 1, index_col=0, header = None).values\n",
    "    n = pd.read_excel(dataPath, 'Agent dof', skiprows = 1, index_col=0, header = None).values\n",
    "    return yI, a, A, n"
   ]
  },
  {
   "cell_type": "code",
   "execution_count": null,
   "id": "6c7d5bf2-e477-4ae0-9891-09c3f07aeb5c",
   "metadata": {},
   "outputs": [],
   "source": []
  }
 ],
 "metadata": {
  "kernelspec": {
   "display_name": "env_38",
   "language": "python",
   "name": "env_38"
  }
 },
 "nbformat": 4,
 "nbformat_minor": 5
}
